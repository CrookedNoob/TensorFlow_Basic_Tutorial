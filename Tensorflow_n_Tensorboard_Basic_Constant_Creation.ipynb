{
 "cells": [
  {
   "cell_type": "code",
   "execution_count": 1,
   "metadata": {},
   "outputs": [],
   "source": [
    "import os\n",
    "os.environ['TF_CPP_MIN_LOG_LEVEL']='2' #No more warnings"
   ]
  },
  {
   "cell_type": "code",
   "execution_count": 2,
   "metadata": {},
   "outputs": [
    {
     "name": "stderr",
     "output_type": "stream",
     "text": [
      "C:\\ProgramData\\Anaconda3\\lib\\site-packages\\h5py\\__init__.py:36: FutureWarning: Conversion of the second argument of issubdtype from `float` to `np.floating` is deprecated. In future, it will be treated as `np.float64 == np.dtype(float).type`.\n",
      "  from ._conv import register_converters as _register_converters\n"
     ]
    }
   ],
   "source": [
    "import tensorflow as tf "
   ]
  },
  {
   "cell_type": "code",
   "execution_count": 18,
   "metadata": {},
   "outputs": [
    {
     "name": "stdout",
     "output_type": "stream",
     "text": [
      "[10 20]\n"
     ]
    }
   ],
   "source": [
    "#Create Constant\n",
    "#tf.constant(value, dtype=None, shape=None, name=\"constant\", verify_shape=False)\n",
    "\n",
    "#Constant of 1D Tensor i.e. Vector\n",
    "a= tf.constant([10,20], name='Vector')\n",
    "\n",
    "with tf.Session() as sess:\n",
    "    print(sess.run(a))"
   ]
  },
  {
   "cell_type": "code",
   "execution_count": 19,
   "metadata": {},
   "outputs": [
    {
     "name": "stdout",
     "output_type": "stream",
     "text": [
      "[[10 20]\n",
      " [30 40]]\n"
     ]
    }
   ],
   "source": [
    "#Constant of 2X2 tensor i.e. Matrix\n",
    "b= tf.constant([[10,20],[30,40]], name='Matrix')\n",
    "\n",
    "with tf.Session() as sess:\n",
    "    print(sess.run(b))"
   ]
  },
  {
   "cell_type": "code",
   "execution_count": 20,
   "metadata": {},
   "outputs": [
    {
     "name": "stdout",
     "output_type": "stream",
     "text": [
      "[[0. 0. 0.]\n",
      " [0. 0. 0.]]\n"
     ]
    }
   ],
   "source": [
    "#To create Tensor with specific dimension and specific values\n",
    "#tf.zeros([2,3], dtype=tf.int32, name=None)\n",
    "\n",
    "#Create a Tensor 2x3 i.e. Matrix with zero as all elements\n",
    "c= tf.zeros([2,3], dtype=tf.float32, name=\"Zero\")\n",
    "with tf.Session() as sess:\n",
    "    print(sess.run(c))"
   ]
  },
  {
   "cell_type": "code",
   "execution_count": 21,
   "metadata": {},
   "outputs": [
    {
     "name": "stdout",
     "output_type": "stream",
     "text": [
      "[[0 0]\n",
      " [0 0]\n",
      " [0 0]\n",
      " [0 0]]\n"
     ]
    }
   ],
   "source": [
    "#Create a tensor of shape and type (unless specified) as tensor_shape but all the elements are zeros\n",
    "tensor_shape= [[0,1],[2,3],[3,4],[4,5]]\n",
    "d=tf.zeros_like(tensor_shape)\n",
    "\n",
    "with tf.Session() as sess:\n",
    "    print(sess.run(d))"
   ]
  },
  {
   "cell_type": "code",
   "execution_count": 23,
   "metadata": {},
   "outputs": [
    {
     "name": "stdout",
     "output_type": "stream",
     "text": [
      "[[1 1 1 1 1]\n",
      " [1 1 1 1 1]\n",
      " [1 1 1 1 1]]\n"
     ]
    }
   ],
   "source": [
    "#Create a tensor of any shape and all the elements are 1s\n",
    "#tf.ones(shape, dtype=tf.float32, name=None)\n",
    "\n",
    "e= tf.ones([3,5], dtype=tf.int32, name='Ones')\n",
    "\n",
    "with tf.Session() as sess:\n",
    "    print(sess.run(e))"
   ]
  },
  {
   "cell_type": "code",
   "execution_count": 25,
   "metadata": {},
   "outputs": [
    {
     "name": "stdout",
     "output_type": "stream",
     "text": [
      "[[1 1]\n",
      " [1 1]\n",
      " [1 1]\n",
      " [1 1]]\n"
     ]
    }
   ],
   "source": [
    "#Create a tensor of shape and type (unless specified) as tensor_shape but all the elements are 1s\n",
    "#tf.ones_like(shape, name=None)\n",
    "\n",
    "tensor_shape= [[0,1],[2,3],[3,4],[4,5]]\n",
    "f=tf.ones_like(tensor_shape)\n",
    "\n",
    "with tf.Session() as sess:\n",
    "    print(sess.run(f))"
   ]
  },
  {
   "cell_type": "code",
   "execution_count": 26,
   "metadata": {},
   "outputs": [
    {
     "name": "stdout",
     "output_type": "stream",
     "text": [
      "[[999 999 999 999]\n",
      " [999 999 999 999]\n",
      " [999 999 999 999]\n",
      " [999 999 999 999]\n",
      " [999 999 999 999]]\n"
     ]
    }
   ],
   "source": [
    "#Create a Tensor and fill it with any scalar value\n",
    "#tf.fill(dims, value, name=None)\n",
    "\n",
    "g= tf.fill([5,4], 999)\n",
    "\n",
    "with tf.Session() as sess:\n",
    "    print(sess.run(g))"
   ]
  },
  {
   "cell_type": "code",
   "execution_count": 28,
   "metadata": {},
   "outputs": [
    {
     "name": "stdout",
     "output_type": "stream",
     "text": [
      "[100.       111.111115 122.22222  133.33333  144.44444  155.55556\n",
      " 166.66666  177.77777  188.88889  200.      ]\n"
     ]
    }
   ],
   "source": [
    "#Create Tensor with sequence of constants\n",
    "\n",
    "#tf.lin_space(start, stop, num, name=None)\n",
    "\n",
    "h= tf.lin_space(100.0, 200.0, 10, name=\"sequence\")\n",
    "\n",
    "with tf.Session() as s:\n",
    "    print(s.run(h))\n"
   ]
  },
  {
   "cell_type": "code",
   "execution_count": 41,
   "metadata": {},
   "outputs": [
    {
     "name": "stdout",
     "output_type": "stream",
     "text": [
      "[10. 11. 12. 13. 14. 15. 16. 17. 18. 19.] \n",
      " [50. 40. 30. 20.] \n",
      " [0 1 2 3 4]\n"
     ]
    }
   ],
   "source": [
    "#Create a Tensor sequence that increments by delta but does not include the limits\n",
    "\n",
    "#tf.range([start], limit=None, delta=delta, dtype=None, name=None)\n",
    "\n",
    "i= tf.range(10, limit=20, delta=1, dtype=tf.float32, name=\"seq1\")\n",
    "j= tf.range(50, limit=10, delta=-10, dtype=tf.float32, name=\"seq2\")\n",
    "limit=5\n",
    "k= tf.range(limit)\n",
    "\n",
    "with tf.Session() as s:\n",
    "    print(s.run(i),'\\n',s.run(j),'\\n',s.run(k))\n"
   ]
  },
  {
   "cell_type": "code",
   "execution_count": 62,
   "metadata": {},
   "outputs": [
    {
     "name": "stdout",
     "output_type": "stream",
     "text": [
      "[[-0.6353692  -0.4363805  -0.99735504]\n",
      " [-0.2486418  -0.20590755 -1.030507  ]] \n",
      "\n",
      " [[2.1831975  1.0788354  2.2319252  0.9189219 ]\n",
      " [0.6677643  1.7626889  0.14389801 1.0384336 ]\n",
      " [0.88161564 2.4888864  0.06121612 2.093206  ]] \n",
      "\n",
      " [[81.96288   40.413055  76.45715   42.111546  64.870544 ]\n",
      " [91.27897   59.92342   68.45606   26.364609  83.97398  ]\n",
      " [64.95919   94.92102   15.3948345 17.199692  51.343346 ]\n",
      " [74.6177    28.962059  19.704628  38.494835  98.97165  ]\n",
      " [15.263632  91.942856  84.92684   98.36412   94.74072  ]] \n",
      "\n",
      " [[ 1.7620294  3.6408837 -0.2725637]\n",
      " [ 2.974146   1.0282172  0.4127462]]\n"
     ]
    }
   ],
   "source": [
    "#Generate Random conmstants from certain distributions\n",
    "\n",
    "#tf.random_normal(shape, mean=0.0, stddev=1.0, dtype=tf.float32, seed=None, name=None)\n",
    "#Returns A tensor of the specified shape filled with random normal values\n",
    "\n",
    "l= tf.random_normal([2,3], mean=0.0, stddev=1.0, dtype=tf.float32, seed=1, name=\"norm_dist\")\n",
    "\n",
    "#tf.truncated_normal(shape, mean=0.0, stddev=1.0, dtype=tf.float32, seed=None, name=None)\n",
    "#Returns A tensor of the specified shape filled with random truncated normal values.\n",
    "\n",
    "m=tf.truncated_normal([3,4], mean=1.5, stddev=1.2, dtype=tf.float32, seed=123, name=\"trunc_norm\")\n",
    "\n",
    "#tf.random_uniform(shape, minval=0, maxval=None, dtype=tf.float32, seed=None, name=None)\n",
    "#Returns A tensor of the specified shape filled with random uniform values.\n",
    "\n",
    "n= tf.random_uniform([5,5], minval=10, maxval=100, dtype=tf.float32, seed=123, name=\"rand_uni\")\n",
    "\n",
    "#tf.random_shuffle(value, seed=None, name=None)\n",
    "# tensor of same shape and type as value, shuffled along its first dimension\n",
    "o= tf.random_shuffle(m, seed=tf.set_random_seed(123), name=\"rand_shuff\")\n",
    "\n",
    "#tf.random_crop(value, size, seed=None, name=None)\n",
    "#Returns A cropped tensor of the same rank as value and shape size\n",
    "\n",
    "p= tf.random_crop(m, size=[2,3], seed=123, name=\"crop\")\n",
    "\n",
    "\n",
    "\n",
    "with tf.Session() as s:\n",
    "    print(s.run(l), \"\\n\\n\", s.run(m), \"\\n\\n\", s.run(n), \"\\n\\n\", s.run(p))\n",
    "    "
   ]
  },
  {
   "cell_type": "code",
   "execution_count": null,
   "metadata": {},
   "outputs": [],
   "source": []
  }
 ],
 "metadata": {
  "kernelspec": {
   "display_name": "Python 3",
   "language": "python",
   "name": "python3"
  },
  "language_info": {
   "codemirror_mode": {
    "name": "ipython",
    "version": 3
   },
   "file_extension": ".py",
   "mimetype": "text/x-python",
   "name": "python",
   "nbconvert_exporter": "python",
   "pygments_lexer": "ipython3",
   "version": "3.6.5"
  }
 },
 "nbformat": 4,
 "nbformat_minor": 2
}
