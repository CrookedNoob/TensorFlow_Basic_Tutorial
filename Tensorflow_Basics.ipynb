{
 "cells": [
  {
   "cell_type": "code",
   "execution_count": 19,
   "metadata": {},
   "outputs": [],
   "source": [
    "# Tensorflow Basics Tutorial"
   ]
  },
  {
   "cell_type": "code",
   "execution_count": 20,
   "metadata": {},
   "outputs": [],
   "source": [
    "#Importing tensorflow\n",
    "import tensorflow as tf"
   ]
  },
  {
   "cell_type": "code",
   "execution_count": 21,
   "metadata": {},
   "outputs": [],
   "source": [
    "#Defining symbolic variables called \"placeholders\"\n",
    "a =tf.placeholder(\"float\")\n",
    "b=tf.placeholder(\"float\")"
   ]
  },
  {
   "cell_type": "code",
   "execution_count": 34,
   "metadata": {},
   "outputs": [
    {
     "name": "stdout",
     "output_type": "stream",
     "text": [
      "Tensor(\"Mul_10:0\", dtype=float32)\n"
     ]
    }
   ],
   "source": [
    "#Implementing mathematical operations\n",
    "c= tf.multiply(a, b)\n",
    "d= tf.add(a,b)\n",
    "e= tf.subtract(a,b)\n",
    "f= tf.divide(a,b)\n",
    "g= tf.mod(a,b)\n",
    "h= tf.abs(a)\n",
    "i= tf.negative(a)\n",
    "j= tf.sign(a)\n",
    "k= tf.reciprocal(a)\n",
    "l= tf.square(a)\n",
    "m= tf.round(a)\n",
    "n= tf.sqrt(a)\n",
    "o= tf.pow(a,5)\n",
    "p= tf.exp(a)\n",
    "q= tf.log(a)\n",
    "r= tf.maximum(a,b)\n",
    "s= tf.minimum(a,b)\n",
    "t= tf.cos(a)\n",
    "u= tf.sin(a)"
   ]
  },
  {
   "cell_type": "code",
   "execution_count": 37,
   "metadata": {},
   "outputs": [
    {
     "name": "stdout",
     "output_type": "stream",
     "text": [
      "\n",
      " Tensor(\"Mul_10:0\", dtype=float32) \n",
      " Tensor(\"Add_7:0\", dtype=float32) \n",
      " Tensor(\"Sub_7:0\", dtype=float32) \n",
      " Tensor(\"truediv_7:0\", dtype=float32) \n",
      " Tensor(\"FloorMod_6:0\", dtype=float32) \n",
      " Tensor(\"Abs_5:0\", dtype=float32) \n",
      " Tensor(\"Neg_3:0\", dtype=float32) \n",
      " Tensor(\"Sign_3:0\", dtype=float32) \n",
      " Tensor(\"Reciprocal_1:0\", dtype=float32) \n",
      " Tensor(\"Square_1:0\", dtype=float32) \n",
      " Tensor(\"Round_1:0\", dtype=float32) \n",
      " Tensor(\"Sqrt_1:0\", dtype=float32) \n",
      " Tensor(\"Pow:0\", dtype=float32) \n",
      " Tensor(\"Exp:0\", dtype=float32) \n",
      " Tensor(\"Log:0\", dtype=float32) \n",
      " Tensor(\"Maximum:0\", dtype=float32) \n",
      " Tensor(\"Minimum:0\", dtype=float32) \n",
      " Tensor(\"Cos:0\", dtype=float32) \n",
      " Tensor(\"Sin:0\", dtype=float32)\n"
     ]
    }
   ],
   "source": [
    "#This will display the Tensors created for the various mathematical operations\n",
    "print(\"\\n\",c,\"\\n\",d, \"\\n\",e, \"\\n\", f, \"\\n\",g, \"\\n\",h, \"\\n\",i, \"\\n\", j, \"\\n\",k, \"\\n\", l, \"\\n\",m, \"\\n\",n, \"\\n\",o,\n",
    "     \"\\n\",p, \"\\n\",q, \"\\n\",r, \"\\n\",s, \"\\n\",t, \"\\n\",u)"
   ]
  },
  {
   "cell_type": "code",
   "execution_count": 41,
   "metadata": {},
   "outputs": [
    {
     "name": "stdout",
     "output_type": "stream",
     "text": [
      "a=3.5, b=2.5 \n",
      " tf.multiply(a, b): 8.75 \n",
      " tf.add(a,b): 6.0 \n",
      " tf.subtract(a,b): 1.0 \n",
      " tf.divide(a,b): 1.4 \n",
      " tf.mod(a,b): 1.0 \n",
      " tf.abs(a): 3.5 \n",
      " tf.negative(a): -3.5 \n",
      " tf.sign(a): 1.0 \n",
      " tf.reciprocal(a): 0.2857143 \n",
      " tf.square(a): 12.25 \n",
      " tf.round(a): 4.0 \n",
      " tf.sqrt(a): 1.8708287 \n",
      " tf.pow(a,5): 525.21875 \n",
      " tf.exp(a): 33.11545 \n",
      " tf.log(a): 1.2527629 \n",
      " tf.maximum(a,b): 3.5 \n",
      " tf.minimum(a,b): 2.5 \n",
      " tf.cos(a): -0.9364567 \n",
      " tf.sin(a): -0.35078323\n"
     ]
    }
   ],
   "source": [
    "#To execute the above operations first we have to create Session and then \n",
    "#assign values to the symbolic variables that we craeted\n",
    "sess=tf.Session()\n",
    "\n",
    "print(\"a=3.5, b=2.5\", \n",
    "      \"\\n tf.multiply(a, b):\", sess.run(c, feed_dict={a:3.5, b: 2.5}), \n",
    "      \"\\n tf.add(a,b):\", sess.run(d, feed_dict={a:3.5, b: 2.5}),\n",
    "      \"\\n tf.subtract(a,b):\", sess.run(e, feed_dict={a:3.5, b: 2.5}), \n",
    "      \"\\n tf.divide(a,b):\", sess.run(f, feed_dict={a:3.5, b: 2.5}),\n",
    "      \"\\n tf.mod(a,b):\", sess.run(g, feed_dict={a:3.5, b: 2.5}), \n",
    "      \"\\n tf.abs(a):\", sess.run(h, feed_dict={a:3.5, b: 2.5}),\n",
    "      \"\\n tf.negative(a):\", sess.run(i, feed_dict={a:3.5, b: 2.5}), \n",
    "      \"\\n tf.sign(a):\", sess.run(j, feed_dict={a:3.5, b: 2.5}),\n",
    "      \"\\n tf.reciprocal(a):\", sess.run(k, feed_dict={a:3.5, b: 2.5}), \n",
    "      \"\\n tf.square(a):\", sess.run(l, feed_dict={a:3.5, b: 2.5}),\n",
    "      \"\\n tf.round(a):\", sess.run(m, feed_dict={a:3.5, b: 2.5}), \n",
    "      \"\\n tf.sqrt(a):\",sess.run(n, feed_dict={a:3.5, b: 2.5}),\n",
    "      \"\\n tf.pow(a,5):\", sess.run(o, feed_dict={a:3.5, b: 2.5}), \n",
    "      \"\\n tf.exp(a):\", sess.run(p, feed_dict={a:3.5, b: 2.5}),\n",
    "      \"\\n tf.log(a):\", sess.run(q, feed_dict={a:3.5, b: 2.5}), \n",
    "      \"\\n tf.maximum(a,b):\", sess.run(r, feed_dict={a:3.5, b: 2.5}),\n",
    "      \"\\n tf.minimum(a,b):\", sess.run(s, feed_dict={a:3.5, b: 2.5}), \n",
    "      \"\\n tf.cos(a):\", sess.run(t, feed_dict={a:3.5, b: 2.5}),\n",
    "      \"\\n tf.sin(a):\", sess.run(u, feed_dict={a:3.5, b: 2.5}))"
   ]
  },
  {
   "cell_type": "code",
   "execution_count": 12,
   "metadata": {},
   "outputs": [],
   "source": []
  },
  {
   "cell_type": "code",
   "execution_count": null,
   "metadata": {},
   "outputs": [],
   "source": []
  },
  {
   "cell_type": "code",
   "execution_count": null,
   "metadata": {},
   "outputs": [],
   "source": []
  }
 ],
 "metadata": {
  "kernelspec": {
   "display_name": "Python 3",
   "language": "python",
   "name": "python3"
  },
  "language_info": {
   "codemirror_mode": {
    "name": "ipython",
    "version": 3
   },
   "file_extension": ".py",
   "mimetype": "text/x-python",
   "name": "python",
   "nbconvert_exporter": "python",
   "pygments_lexer": "ipython3",
   "version": "3.6.5"
  }
 },
 "nbformat": 4,
 "nbformat_minor": 2
}
